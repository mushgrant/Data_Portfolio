{
 "cells": [
  {
   "cell_type": "code",
   "execution_count": 1,
   "metadata": {
    "collapsed": true
   },
   "outputs": [],
   "source": [
    "import pandas as pd \n",
    "import numpy as np\n",
    "import matplotlib.pyplot as plt\n",
    "%matplotlib inline"
   ]
  },
  {
   "cell_type": "markdown",
   "metadata": {},
   "source": [
    "Look at the data"
   ]
  },
  {
   "cell_type": "code",
   "execution_count": 2,
   "metadata": {
    "collapsed": true
   },
   "outputs": [],
   "source": [
    "chunk_iter = pd.read_csv('crunchbase-investments.csv',nrows=5,encoding='ISO-8859-1' )"
   ]
  },
  {
   "cell_type": "code",
   "execution_count": 3,
   "metadata": {
    "collapsed": false
   },
   "outputs": [
    {
     "data": {
      "text/plain": [
       "BlockManager\n",
       "Items: Index(['company_permalink', 'company_name', 'company_category_code',\n",
       "       'company_country_code', 'company_state_code', 'company_region',\n",
       "       'company_city', 'investor_permalink', 'investor_name',\n",
       "       'investor_category_code', 'investor_country_code',\n",
       "       'investor_state_code', 'investor_region', 'investor_city',\n",
       "       'funding_round_type', 'funded_at', 'funded_month', 'funded_quarter',\n",
       "       'funded_year', 'raised_amount_usd'],\n",
       "      dtype='object')\n",
       "Axis 1: RangeIndex(start=0, stop=5, step=1)\n",
       "IntBlock: slice(18, 20, 1), 2 x 5, dtype: int64\n",
       "ObjectBlock: slice(0, 18, 1), 18 x 5, dtype: object"
      ]
     },
     "execution_count": 3,
     "metadata": {},
     "output_type": "execute_result"
    }
   ],
   "source": [
    "chunk_iter._data"
   ]
  },
  {
   "cell_type": "code",
   "execution_count": 4,
   "metadata": {
    "collapsed": false,
    "scrolled": true
   },
   "outputs": [
    {
     "name": "stdout",
     "output_type": "stream",
     "text": [
      "<class 'pandas.core.frame.DataFrame'>\n",
      "RangeIndex: 5 entries, 0 to 4\n",
      "Data columns (total 20 columns):\n",
      "company_permalink         5 non-null object\n",
      "company_name              5 non-null object\n",
      "company_category_code     5 non-null object\n",
      "company_country_code      5 non-null object\n",
      "company_state_code        4 non-null object\n",
      "company_region            5 non-null object\n",
      "company_city              4 non-null object\n",
      "investor_permalink        5 non-null object\n",
      "investor_name             5 non-null object\n",
      "investor_category_code    4 non-null object\n",
      "investor_country_code     5 non-null object\n",
      "investor_state_code       5 non-null object\n",
      "investor_region           5 non-null object\n",
      "investor_city             5 non-null object\n",
      "funding_round_type        5 non-null object\n",
      "funded_at                 5 non-null object\n",
      "funded_month              5 non-null object\n",
      "funded_quarter            5 non-null object\n",
      "funded_year               5 non-null int64\n",
      "raised_amount_usd         5 non-null int64\n",
      "dtypes: int64(2), object(18)\n",
      "memory usage: 880.0+ bytes\n"
     ]
    }
   ],
   "source": [
    "chunk_iter.info()"
   ]
  },
  {
   "cell_type": "code",
   "execution_count": 5,
   "metadata": {
    "collapsed": false
   },
   "outputs": [
    {
     "data": {
      "text/html": [
       "<div>\n",
       "<table border=\"1\" class=\"dataframe\">\n",
       "  <thead>\n",
       "    <tr style=\"text-align: right;\">\n",
       "      <th></th>\n",
       "      <th>company_permalink</th>\n",
       "      <th>company_name</th>\n",
       "      <th>company_category_code</th>\n",
       "      <th>company_country_code</th>\n",
       "      <th>company_state_code</th>\n",
       "      <th>company_region</th>\n",
       "      <th>company_city</th>\n",
       "      <th>investor_permalink</th>\n",
       "      <th>investor_name</th>\n",
       "      <th>investor_category_code</th>\n",
       "      <th>investor_country_code</th>\n",
       "      <th>investor_state_code</th>\n",
       "      <th>investor_region</th>\n",
       "      <th>investor_city</th>\n",
       "      <th>funding_round_type</th>\n",
       "      <th>funded_at</th>\n",
       "      <th>funded_month</th>\n",
       "      <th>funded_quarter</th>\n",
       "      <th>funded_year</th>\n",
       "      <th>raised_amount_usd</th>\n",
       "    </tr>\n",
       "  </thead>\n",
       "  <tbody>\n",
       "    <tr>\n",
       "      <th>0</th>\n",
       "      <td>/company/advercar</td>\n",
       "      <td>AdverCar</td>\n",
       "      <td>advertising</td>\n",
       "      <td>USA</td>\n",
       "      <td>CA</td>\n",
       "      <td>SF Bay</td>\n",
       "      <td>San Francisco</td>\n",
       "      <td>/company/1-800-flowers-com</td>\n",
       "      <td>1-800-FLOWERS.COM</td>\n",
       "      <td>NaN</td>\n",
       "      <td>USA</td>\n",
       "      <td>NY</td>\n",
       "      <td>New York</td>\n",
       "      <td>New York</td>\n",
       "      <td>series-a</td>\n",
       "      <td>2012-10-30</td>\n",
       "      <td>2012-10</td>\n",
       "      <td>2012-Q4</td>\n",
       "      <td>2012</td>\n",
       "      <td>2000000</td>\n",
       "    </tr>\n",
       "    <tr>\n",
       "      <th>1</th>\n",
       "      <td>/company/launchgram</td>\n",
       "      <td>LaunchGram</td>\n",
       "      <td>news</td>\n",
       "      <td>USA</td>\n",
       "      <td>CA</td>\n",
       "      <td>SF Bay</td>\n",
       "      <td>Mountain View</td>\n",
       "      <td>/company/10xelerator</td>\n",
       "      <td>10Xelerator</td>\n",
       "      <td>finance</td>\n",
       "      <td>USA</td>\n",
       "      <td>OH</td>\n",
       "      <td>Columbus</td>\n",
       "      <td>Columbus</td>\n",
       "      <td>other</td>\n",
       "      <td>2012-01-23</td>\n",
       "      <td>2012-01</td>\n",
       "      <td>2012-Q1</td>\n",
       "      <td>2012</td>\n",
       "      <td>20000</td>\n",
       "    </tr>\n",
       "    <tr>\n",
       "      <th>2</th>\n",
       "      <td>/company/utap</td>\n",
       "      <td>uTaP</td>\n",
       "      <td>messaging</td>\n",
       "      <td>USA</td>\n",
       "      <td>NaN</td>\n",
       "      <td>United States - Other</td>\n",
       "      <td>NaN</td>\n",
       "      <td>/company/10xelerator</td>\n",
       "      <td>10Xelerator</td>\n",
       "      <td>finance</td>\n",
       "      <td>USA</td>\n",
       "      <td>OH</td>\n",
       "      <td>Columbus</td>\n",
       "      <td>Columbus</td>\n",
       "      <td>other</td>\n",
       "      <td>2012-01-01</td>\n",
       "      <td>2012-01</td>\n",
       "      <td>2012-Q1</td>\n",
       "      <td>2012</td>\n",
       "      <td>20000</td>\n",
       "    </tr>\n",
       "    <tr>\n",
       "      <th>3</th>\n",
       "      <td>/company/zoopshop</td>\n",
       "      <td>ZoopShop</td>\n",
       "      <td>software</td>\n",
       "      <td>USA</td>\n",
       "      <td>OH</td>\n",
       "      <td>Columbus</td>\n",
       "      <td>columbus</td>\n",
       "      <td>/company/10xelerator</td>\n",
       "      <td>10Xelerator</td>\n",
       "      <td>finance</td>\n",
       "      <td>USA</td>\n",
       "      <td>OH</td>\n",
       "      <td>Columbus</td>\n",
       "      <td>Columbus</td>\n",
       "      <td>angel</td>\n",
       "      <td>2012-02-15</td>\n",
       "      <td>2012-02</td>\n",
       "      <td>2012-Q1</td>\n",
       "      <td>2012</td>\n",
       "      <td>20000</td>\n",
       "    </tr>\n",
       "    <tr>\n",
       "      <th>4</th>\n",
       "      <td>/company/efuneral</td>\n",
       "      <td>eFuneral</td>\n",
       "      <td>web</td>\n",
       "      <td>USA</td>\n",
       "      <td>OH</td>\n",
       "      <td>Cleveland</td>\n",
       "      <td>Cleveland</td>\n",
       "      <td>/company/10xelerator</td>\n",
       "      <td>10Xelerator</td>\n",
       "      <td>finance</td>\n",
       "      <td>USA</td>\n",
       "      <td>OH</td>\n",
       "      <td>Columbus</td>\n",
       "      <td>Columbus</td>\n",
       "      <td>other</td>\n",
       "      <td>2011-09-08</td>\n",
       "      <td>2011-09</td>\n",
       "      <td>2011-Q3</td>\n",
       "      <td>2011</td>\n",
       "      <td>20000</td>\n",
       "    </tr>\n",
       "  </tbody>\n",
       "</table>\n",
       "</div>"
      ],
      "text/plain": [
       "     company_permalink company_name company_category_code  \\\n",
       "0    /company/advercar     AdverCar           advertising   \n",
       "1  /company/launchgram   LaunchGram                  news   \n",
       "2        /company/utap         uTaP             messaging   \n",
       "3    /company/zoopshop     ZoopShop              software   \n",
       "4    /company/efuneral     eFuneral                   web   \n",
       "\n",
       "  company_country_code company_state_code         company_region  \\\n",
       "0                  USA                 CA                 SF Bay   \n",
       "1                  USA                 CA                 SF Bay   \n",
       "2                  USA                NaN  United States - Other   \n",
       "3                  USA                 OH               Columbus   \n",
       "4                  USA                 OH              Cleveland   \n",
       "\n",
       "    company_city          investor_permalink      investor_name  \\\n",
       "0  San Francisco  /company/1-800-flowers-com  1-800-FLOWERS.COM   \n",
       "1  Mountain View        /company/10xelerator        10Xelerator   \n",
       "2            NaN        /company/10xelerator        10Xelerator   \n",
       "3       columbus        /company/10xelerator        10Xelerator   \n",
       "4      Cleveland        /company/10xelerator        10Xelerator   \n",
       "\n",
       "  investor_category_code investor_country_code investor_state_code  \\\n",
       "0                    NaN                   USA                  NY   \n",
       "1                finance                   USA                  OH   \n",
       "2                finance                   USA                  OH   \n",
       "3                finance                   USA                  OH   \n",
       "4                finance                   USA                  OH   \n",
       "\n",
       "  investor_region investor_city funding_round_type   funded_at funded_month  \\\n",
       "0        New York      New York           series-a  2012-10-30      2012-10   \n",
       "1        Columbus      Columbus              other  2012-01-23      2012-01   \n",
       "2        Columbus      Columbus              other  2012-01-01      2012-01   \n",
       "3        Columbus      Columbus              angel  2012-02-15      2012-02   \n",
       "4        Columbus      Columbus              other  2011-09-08      2011-09   \n",
       "\n",
       "  funded_quarter  funded_year  raised_amount_usd  \n",
       "0        2012-Q4         2012            2000000  \n",
       "1        2012-Q1         2012              20000  \n",
       "2        2012-Q1         2012              20000  \n",
       "3        2012-Q1         2012              20000  \n",
       "4        2011-Q3         2011              20000  "
      ]
     },
     "execution_count": 5,
     "metadata": {},
     "output_type": "execute_result"
    }
   ],
   "source": [
    "chunk_iter"
   ]
  },
  {
   "cell_type": "markdown",
   "metadata": {},
   "source": [
    "total rows"
   ]
  },
  {
   "cell_type": "code",
   "execution_count": 6,
   "metadata": {
    "collapsed": false
   },
   "outputs": [
    {
     "data": {
      "text/plain": [
       "52870"
      ]
     },
     "execution_count": 6,
     "metadata": {},
     "output_type": "execute_result"
    }
   ],
   "source": [
    "num_rows = 0\n",
    "chunk_iter = pd.read_csv('crunchbase-investments.csv',chunksize=5000,encoding='ISO-8859-1' )\n",
    "for chunk in chunk_iter:\n",
    "    num_rows += len(chunk)\n",
    "    \n",
    "num_rows"
   ]
  },
  {
   "cell_type": "markdown",
   "metadata": {},
   "source": [
    "memory usage of each chunk"
   ]
  },
  {
   "cell_type": "code",
   "execution_count": 7,
   "metadata": {
    "collapsed": false
   },
   "outputs": [
    {
     "name": "stdout",
     "output_type": "stream",
     "text": [
      "[5.5791950225830078, 5.5281867980957031, 5.5350046157836914, 5.528162956237793, 5.5243072509765625, 5.5534124374389648, 5.5313911437988281, 5.509613037109375, 5.3960905075073242, 4.6394519805908203, 2.6636686325073242]\n"
     ]
    }
   ],
   "source": [
    "chunk_iter = pd.read_csv('crunchbase-investments.csv',chunksize=5000,encoding='ISO-8859-1' )\n",
    "memory_usage = []\n",
    "for chunk in chunk_iter:\n",
    "    memory_usage.append(chunk.memory_usage(deep=True)\n",
    "                        .sum()/(1024*1024))\n",
    "\n",
    "print(memory_usage)"
   ]
  },
  {
   "cell_type": "markdown",
   "metadata": {},
   "source": [
    "null values for each column "
   ]
  },
  {
   "cell_type": "code",
   "execution_count": 8,
   "metadata": {
    "collapsed": false
   },
   "outputs": [
    {
     "data": {
      "text/plain": [
       "[company_permalink            0\n",
       " company_name                 0\n",
       " company_category_code       52\n",
       " company_country_code         0\n",
       " company_state_code          53\n",
       " company_region               0\n",
       " company_city                64\n",
       " investor_permalink           0\n",
       " investor_name                0\n",
       " investor_category_code    2557\n",
       " investor_country_code      778\n",
       " investor_state_code       1371\n",
       " investor_region              0\n",
       " investor_city              900\n",
       " funding_round_type           0\n",
       " funded_at                    0\n",
       " funded_month                 0\n",
       " funded_quarter               0\n",
       " funded_year                  0\n",
       " raised_amount_usd          653\n",
       " dtype: int64, company_permalink            0\n",
       " company_name                 0\n",
       " company_category_code       51\n",
       " company_country_code         0\n",
       " company_state_code          43\n",
       " company_region               0\n",
       " company_city                45\n",
       " investor_permalink           0\n",
       " investor_name                0\n",
       " investor_category_code    5000\n",
       " investor_country_code      261\n",
       " investor_state_code        714\n",
       " investor_region              0\n",
       " investor_city              313\n",
       " funding_round_type           0\n",
       " funded_at                    0\n",
       " funded_month                 0\n",
       " funded_quarter               0\n",
       " funded_year                  0\n",
       " raised_amount_usd          239\n",
       " dtype: int64, company_permalink            0\n",
       " company_name                 0\n",
       " company_category_code       82\n",
       " company_country_code         0\n",
       " company_state_code          56\n",
       " company_region               0\n",
       " company_city                44\n",
       " investor_permalink           0\n",
       " investor_name                0\n",
       " investor_category_code    5000\n",
       " investor_country_code      271\n",
       " investor_state_code        808\n",
       " investor_region              0\n",
       " investor_city              314\n",
       " funding_round_type           0\n",
       " funded_at                    0\n",
       " funded_month                 0\n",
       " funded_quarter               0\n",
       " funded_year                  0\n",
       " raised_amount_usd          221\n",
       " dtype: int64, company_permalink            0\n",
       " company_name                 0\n",
       " company_category_code       57\n",
       " company_country_code         0\n",
       " company_state_code          36\n",
       " company_region               0\n",
       " company_city                44\n",
       " investor_permalink           0\n",
       " investor_name                0\n",
       " investor_category_code    5000\n",
       " investor_country_code      239\n",
       " investor_state_code        714\n",
       " investor_region              0\n",
       " investor_city              274\n",
       " funding_round_type           0\n",
       " funded_at                    0\n",
       " funded_month                 0\n",
       " funded_quarter               0\n",
       " funded_year                  0\n",
       " raised_amount_usd          299\n",
       " dtype: int64, company_permalink            0\n",
       " company_name                 0\n",
       " company_category_code       69\n",
       " company_country_code         0\n",
       " company_state_code          40\n",
       " company_region               0\n",
       " company_city                41\n",
       " investor_permalink           0\n",
       " investor_name                0\n",
       " investor_category_code    5000\n",
       " investor_country_code      352\n",
       " investor_state_code       1116\n",
       " investor_region              0\n",
       " investor_city              434\n",
       " funding_round_type           0\n",
       " funded_at                    0\n",
       " funded_month                 0\n",
       " funded_quarter               0\n",
       " funded_year                  0\n",
       " raised_amount_usd          243\n",
       " dtype: int64, company_permalink            0\n",
       " company_name                 0\n",
       " company_category_code       61\n",
       " company_country_code         0\n",
       " company_state_code          39\n",
       " company_region               0\n",
       " company_city                33\n",
       " investor_permalink           0\n",
       " investor_name                0\n",
       " investor_category_code    5000\n",
       " investor_country_code      218\n",
       " investor_state_code        732\n",
       " investor_region              0\n",
       " investor_city              238\n",
       " funding_round_type           0\n",
       " funded_at                    0\n",
       " funded_month                 0\n",
       " funded_quarter               0\n",
       " funded_year                  0\n",
       " raised_amount_usd          206\n",
       " dtype: int64, company_permalink            1\n",
       " company_name                 1\n",
       " company_category_code       88\n",
       " company_country_code         1\n",
       " company_state_code          35\n",
       " company_region               1\n",
       " company_city                42\n",
       " investor_permalink           2\n",
       " investor_name                2\n",
       " investor_category_code    5000\n",
       " investor_country_code      313\n",
       " investor_state_code        922\n",
       " investor_region              2\n",
       " investor_city              339\n",
       " funding_round_type           3\n",
       " funded_at                    3\n",
       " funded_month                 3\n",
       " funded_quarter               3\n",
       " funded_year                  3\n",
       " raised_amount_usd          287\n",
       " dtype: int64, company_permalink            0\n",
       " company_name                 0\n",
       " company_category_code       83\n",
       " company_country_code         0\n",
       " company_state_code          65\n",
       " company_region               0\n",
       " company_city                55\n",
       " investor_permalink           0\n",
       " investor_name                0\n",
       " investor_category_code    5000\n",
       " investor_country_code      267\n",
       " investor_state_code        775\n",
       " investor_region              0\n",
       " investor_city              334\n",
       " funding_round_type           0\n",
       " funded_at                    0\n",
       " funded_month                 0\n",
       " funded_quarter               0\n",
       " funded_year                  0\n",
       " raised_amount_usd          368\n",
       " dtype: int64, company_permalink            0\n",
       " company_name                 0\n",
       " company_category_code       75\n",
       " company_country_code         0\n",
       " company_state_code          50\n",
       " company_region               0\n",
       " company_city                50\n",
       " investor_permalink           0\n",
       " investor_name                0\n",
       " investor_category_code    5000\n",
       " investor_country_code     1432\n",
       " investor_state_code       1787\n",
       " investor_region              0\n",
       " investor_city             1464\n",
       " funding_round_type           0\n",
       " funded_at                    0\n",
       " funded_month                 0\n",
       " funded_quarter               0\n",
       " funded_year                  0\n",
       " raised_amount_usd          324\n",
       " dtype: int64, company_permalink            0\n",
       " company_name                 0\n",
       " company_category_code       15\n",
       " company_country_code         0\n",
       " company_state_code          46\n",
       " company_region               0\n",
       " company_city                70\n",
       " investor_permalink           0\n",
       " investor_name                0\n",
       " investor_category_code    5000\n",
       " investor_country_code     5000\n",
       " investor_state_code       5000\n",
       " investor_region              0\n",
       " investor_city             5000\n",
       " funding_round_type           0\n",
       " funded_at                    0\n",
       " funded_month                 0\n",
       " funded_quarter               0\n",
       " funded_year                  0\n",
       " raised_amount_usd          469\n",
       " dtype: int64, company_permalink            0\n",
       " company_name                 0\n",
       " company_category_code       10\n",
       " company_country_code         0\n",
       " company_state_code          29\n",
       " company_region               0\n",
       " company_city                45\n",
       " investor_permalink           0\n",
       " investor_name                0\n",
       " investor_category_code    2870\n",
       " investor_country_code     2870\n",
       " investor_state_code       2870\n",
       " investor_region              0\n",
       " investor_city             2870\n",
       " funding_round_type           0\n",
       " funded_at                    0\n",
       " funded_month                 0\n",
       " funded_quarter               0\n",
       " funded_year                  0\n",
       " raised_amount_usd          290\n",
       " dtype: int64]"
      ]
     },
     "execution_count": 8,
     "metadata": {},
     "output_type": "execute_result"
    }
   ],
   "source": [
    "chunk_iter = pd.read_csv('crunchbase-investments.csv',chunksize=5000,encoding='ISO-8859-1' )\n",
    "nulls = []\n",
    "for chunk in chunk_iter:\n",
    "    nulls.append(chunk.isnull().sum())\n",
    "nulls"
   ]
  },
  {
   "cell_type": "markdown",
   "metadata": {},
   "source": [
    "memory usage for each object column"
   ]
  },
  {
   "cell_type": "code",
   "execution_count": 9,
   "metadata": {
    "collapsed": false,
    "scrolled": false
   },
   "outputs": [
    {
     "data": {
      "text/plain": [
       "Index                        84\n",
       "company_permalink        385724\n",
       "company_name             341880\n",
       "company_category_code    324922\n",
       "company_country_code     300000\n",
       "company_state_code       293839\n",
       "company_region           322512\n",
       "company_city             331356\n",
       "investor_permalink       493776\n",
       "investor_name            374250\n",
       "investor_country_code    292692\n",
       "investor_state_code      275722\n",
       "investor_region          319407\n",
       "investor_city            321451\n",
       "funding_round_type       324109\n",
       "funded_at                335000\n",
       "funded_month             320000\n",
       "funded_quarter           320000\n",
       "dtype: int64"
      ]
     },
     "execution_count": 9,
     "metadata": {},
     "output_type": "execute_result"
    }
   ],
   "source": [
    "chunk_iter = pd.read_csv('crunchbase-investments.csv',chunksize=5000,encoding='ISO-8859-1' )\n",
    "obj_mem = []\n",
    "for chunk in chunk_iter:\n",
    "    obj = chunk.select_dtypes(include=['object'])\n",
    "    obj_mem.append(obj.memory_usage(deep=True))\n",
    "    \n",
    "obj_mem[1]"
   ]
  },
  {
   "cell_type": "code",
   "execution_count": 10,
   "metadata": {
    "collapsed": false
   },
   "outputs": [
    {
     "data": {
      "text/plain": [
       "([array([ 1.,  0.,  0.,  0.,  1.,  5.,  9.,  2.,  1.,  0.]),\n",
       "  array([  1.,   0.,   0.,   0.,   0.,   4.,  10.,   2.,   0.,   1.]),\n",
       "  array([  1.,   0.,   0.,   0.,   0.,   4.,  10.,   2.,   0.,   1.]),\n",
       "  array([  1.,   0.,   0.,   0.,   0.,   4.,  10.,   2.,   0.,   1.]),\n",
       "  array([  1.,   0.,   0.,   0.,   0.,   4.,  10.,   2.,   0.,   1.]),\n",
       "  array([  1.,   0.,   0.,   0.,   0.,   4.,  10.,   2.,   0.,   1.]),\n",
       "  array([  1.,   0.,   0.,   0.,   0.,   4.,  10.,   2.,   0.,   1.]),\n",
       "  array([  1.,   0.,   0.,   0.,   0.,   4.,  10.,   2.,   0.,   1.]),\n",
       "  array([ 1.,  0.,  0.,  0.,  1.,  4.,  9.,  2.,  0.,  1.]),\n",
       "  array([  1.,   0.,   0.,   0.,   0.,   2.,  10.,   2.,   0.,   0.]),\n",
       "  array([  1.,   0.,   0.,  12.,   2.,   0.,   0.,   0.,   0.,   0.])],\n",
       " array([  8.00000000e+01,   5.06867000e+04,   1.01293400e+05,\n",
       "          1.51900100e+05,   2.02506800e+05,   2.53113500e+05,\n",
       "          3.03720200e+05,   3.54326900e+05,   4.04933600e+05,\n",
       "          4.55540300e+05,   5.06147000e+05]),\n",
       " <a list of 11 Lists of Patches objects>)"
      ]
     },
     "execution_count": 10,
     "metadata": {},
     "output_type": "execute_result"
    },
    {
     "data": {
      "image/png": "[encoded data removed]",
      "text/plain": [
       "<matplotlib.figure.Figure at 0x7f0bb70042e8>"
      ]
     },
     "metadata": {},
     "output_type": "display_data"
    }
   ],
   "source": [
    "plt.hist(obj_mem)"
   ]
  },
  {
   "cell_type": "code",
   "execution_count": 11,
   "metadata": {
    "collapsed": false
   },
   "outputs": [
    {
     "data": {
      "text/plain": [
       "(array([ 1.,  0.,  0.,  0.,  0.,  0.,  1.,  0.,  0.,  9.]),\n",
       " array([ 2.66366863,  2.95522127,  3.24677391,  3.53832655,  3.82987919,\n",
       "         4.12143183,  4.41298447,  4.70453711,  4.99608974,  5.28764238,\n",
       "         5.57919502]),\n",
       " <a list of 10 Patch objects>)"
      ]
     },
     "execution_count": 11,
     "metadata": {},
     "output_type": "execute_result"
    },
    {
     "data": {
      "image/png": "[encoded data removed]",
      "text/plain": [
       "<matplotlib.figure.Figure at 0x7f0bb70045f8>"
      ]
     },
     "metadata": {},
     "output_type": "display_data"
    }
   ],
   "source": [
    "plt.hist(memory_usage)"
   ]
  },
  {
   "cell_type": "markdown",
   "metadata": {},
   "source": [
    "Convert to categorical to save memory"
   ]
  },
  {
   "cell_type": "code",
   "execution_count": 12,
   "metadata": {
    "collapsed": false
   },
   "outputs": [],
   "source": [
    "chunk_iter = pd.read_csv('crunchbase-investments.csv',chunksize=5000,encoding='ISO-8859-1',parse_dates=['funded_at'] )\n",
    "new_memory_usage = []\n",
    "for chunk in chunk_iter:\n",
    "    col = chunk.columns\n",
    "    for c in col:\n",
    "        if chunk[c].dtype == 'object':\n",
    "            num_unique_values = len(chunk[c].unique())\n",
    "            num_total_values = len(chunk[c])\n",
    "            if num_unique_values / num_total_values < 0.5:\n",
    "                chunk[c] = chunk[c].astype('category')\n",
    "    new_memory_usage.append(chunk.memory_usage(deep=True).sum()/(1024*1024))\n",
    " \n"
   ]
  },
  {
   "cell_type": "code",
   "execution_count": 13,
   "metadata": {
    "collapsed": false
   },
   "outputs": [
    {
     "data": {
      "text/plain": [
       "[1.2514019012451172,\n",
       " 1.148869514465332,\n",
       " 1.1499710083007812,\n",
       " 1.1027450561523438,\n",
       " 1.1362400054931641,\n",
       " 1.1322307586669922,\n",
       " 1.1583738327026367,\n",
       " 1.1366949081420898,\n",
       " 1.1768007278442383,\n",
       " 1.0204048156738281,\n",
       " 0.80860233306884766]"
      ]
     },
     "execution_count": 13,
     "metadata": {},
     "output_type": "execute_result"
    }
   ],
   "source": [
    "new_memory_usage\n"
   ]
  },
  {
   "cell_type": "markdown",
   "metadata": {},
   "source": [
    "New memory usage"
   ]
  },
  {
   "cell_type": "code",
   "execution_count": 14,
   "metadata": {
    "collapsed": false
   },
   "outputs": [
    {
     "data": {
      "text/plain": [
       "(array([ 1.,  0.,  0.,  0.,  1.,  0.,  1.,  6.,  1.,  1.]),\n",
       " array([ 0.80860233,  0.85288229,  0.89716225,  0.9414422 ,  0.98572216,\n",
       "         1.03000212,  1.07428207,  1.11856203,  1.16284199,  1.20712194,\n",
       "         1.2514019 ]),\n",
       " <a list of 10 Patch objects>)"
      ]
     },
     "execution_count": 14,
     "metadata": {},
     "output_type": "execute_result"
    },
    {
     "data": {
      "image/png": "[encoded data removed]",
      "text/plain": [
       "<matplotlib.figure.Figure at 0x7f0bf0a01278>"
      ]
     },
     "metadata": {},
     "output_type": "display_data"
    }
   ],
   "source": [
    "plt.hist(new_memory_usage)"
   ]
  },
  {
   "cell_type": "markdown",
   "metadata": {},
   "source": [
    "Create sqlite db and table"
   ]
  },
  {
   "cell_type": "code",
   "execution_count": 15,
   "metadata": {
    "collapsed": false
   },
   "outputs": [],
   "source": [
    "import sqlite3\n",
    "\n",
    "sqlite_file = 'crunch_db.sqlite'\n",
    "\n",
    "conn = sqlite3.connect(sqlite_file)\n",
    "chunk_iter = pd.read_csv('crunchbase-investments.csv',chunksize=5000,encoding='ISO-8859-1',parse_dates=['funded_at'] )\n",
    "new_memory_usage = []\n",
    "for chunk in chunk_iter:\n",
    "    col = chunk.columns\n",
    "    for c in col:\n",
    "        if chunk[c].dtype == 'object':\n",
    "            num_unique_values = len(chunk[c].unique())\n",
    "            num_total_values = len(chunk[c])\n",
    "            if num_unique_values / num_total_values < 0.5:\n",
    "                chunk[c] = chunk[c].astype('category')\n",
    "    chunk.to_sql('crunch_tables', conn,if_exists='append', index=False)\n"
   ]
  },
  {
   "cell_type": "code",
   "execution_count": 16,
   "metadata": {
    "collapsed": false
   },
   "outputs": [
    {
     "data": {
      "text/html": [
       "<div>\n",
       "<table border=\"1\" class=\"dataframe\">\n",
       "  <thead>\n",
       "    <tr style=\"text-align: right;\">\n",
       "      <th></th>\n",
       "      <th>cid</th>\n",
       "      <th>name</th>\n",
       "      <th>type</th>\n",
       "      <th>notnull</th>\n",
       "      <th>dflt_value</th>\n",
       "      <th>pk</th>\n",
       "    </tr>\n",
       "  </thead>\n",
       "  <tbody>\n",
       "    <tr>\n",
       "      <th>0</th>\n",
       "      <td>0</td>\n",
       "      <td>company_permalink</td>\n",
       "      <td>TEXT</td>\n",
       "      <td>0</td>\n",
       "      <td>None</td>\n",
       "      <td>0</td>\n",
       "    </tr>\n",
       "    <tr>\n",
       "      <th>1</th>\n",
       "      <td>1</td>\n",
       "      <td>company_name</td>\n",
       "      <td>TEXT</td>\n",
       "      <td>0</td>\n",
       "      <td>None</td>\n",
       "      <td>0</td>\n",
       "    </tr>\n",
       "    <tr>\n",
       "      <th>2</th>\n",
       "      <td>2</td>\n",
       "      <td>company_category_code</td>\n",
       "      <td>TEXT</td>\n",
       "      <td>0</td>\n",
       "      <td>None</td>\n",
       "      <td>0</td>\n",
       "    </tr>\n",
       "    <tr>\n",
       "      <th>3</th>\n",
       "      <td>3</td>\n",
       "      <td>company_country_code</td>\n",
       "      <td>TEXT</td>\n",
       "      <td>0</td>\n",
       "      <td>None</td>\n",
       "      <td>0</td>\n",
       "    </tr>\n",
       "    <tr>\n",
       "      <th>4</th>\n",
       "      <td>4</td>\n",
       "      <td>company_state_code</td>\n",
       "      <td>TEXT</td>\n",
       "      <td>0</td>\n",
       "      <td>None</td>\n",
       "      <td>0</td>\n",
       "    </tr>\n",
       "    <tr>\n",
       "      <th>5</th>\n",
       "      <td>5</td>\n",
       "      <td>company_region</td>\n",
       "      <td>TEXT</td>\n",
       "      <td>0</td>\n",
       "      <td>None</td>\n",
       "      <td>0</td>\n",
       "    </tr>\n",
       "    <tr>\n",
       "      <th>6</th>\n",
       "      <td>6</td>\n",
       "      <td>company_city</td>\n",
       "      <td>TEXT</td>\n",
       "      <td>0</td>\n",
       "      <td>None</td>\n",
       "      <td>0</td>\n",
       "    </tr>\n",
       "    <tr>\n",
       "      <th>7</th>\n",
       "      <td>7</td>\n",
       "      <td>investor_permalink</td>\n",
       "      <td>TEXT</td>\n",
       "      <td>0</td>\n",
       "      <td>None</td>\n",
       "      <td>0</td>\n",
       "    </tr>\n",
       "    <tr>\n",
       "      <th>8</th>\n",
       "      <td>8</td>\n",
       "      <td>investor_name</td>\n",
       "      <td>TEXT</td>\n",
       "      <td>0</td>\n",
       "      <td>None</td>\n",
       "      <td>0</td>\n",
       "    </tr>\n",
       "    <tr>\n",
       "      <th>9</th>\n",
       "      <td>9</td>\n",
       "      <td>investor_category_code</td>\n",
       "      <td>TEXT</td>\n",
       "      <td>0</td>\n",
       "      <td>None</td>\n",
       "      <td>0</td>\n",
       "    </tr>\n",
       "    <tr>\n",
       "      <th>10</th>\n",
       "      <td>10</td>\n",
       "      <td>investor_country_code</td>\n",
       "      <td>TEXT</td>\n",
       "      <td>0</td>\n",
       "      <td>None</td>\n",
       "      <td>0</td>\n",
       "    </tr>\n",
       "    <tr>\n",
       "      <th>11</th>\n",
       "      <td>11</td>\n",
       "      <td>investor_state_code</td>\n",
       "      <td>TEXT</td>\n",
       "      <td>0</td>\n",
       "      <td>None</td>\n",
       "      <td>0</td>\n",
       "    </tr>\n",
       "    <tr>\n",
       "      <th>12</th>\n",
       "      <td>12</td>\n",
       "      <td>investor_region</td>\n",
       "      <td>TEXT</td>\n",
       "      <td>0</td>\n",
       "      <td>None</td>\n",
       "      <td>0</td>\n",
       "    </tr>\n",
       "    <tr>\n",
       "      <th>13</th>\n",
       "      <td>13</td>\n",
       "      <td>investor_city</td>\n",
       "      <td>TEXT</td>\n",
       "      <td>0</td>\n",
       "      <td>None</td>\n",
       "      <td>0</td>\n",
       "    </tr>\n",
       "    <tr>\n",
       "      <th>14</th>\n",
       "      <td>14</td>\n",
       "      <td>funding_round_type</td>\n",
       "      <td>TEXT</td>\n",
       "      <td>0</td>\n",
       "      <td>None</td>\n",
       "      <td>0</td>\n",
       "    </tr>\n",
       "    <tr>\n",
       "      <th>15</th>\n",
       "      <td>15</td>\n",
       "      <td>funded_at</td>\n",
       "      <td>TIMESTAMP</td>\n",
       "      <td>0</td>\n",
       "      <td>None</td>\n",
       "      <td>0</td>\n",
       "    </tr>\n",
       "    <tr>\n",
       "      <th>16</th>\n",
       "      <td>16</td>\n",
       "      <td>funded_month</td>\n",
       "      <td>TEXT</td>\n",
       "      <td>0</td>\n",
       "      <td>None</td>\n",
       "      <td>0</td>\n",
       "    </tr>\n",
       "    <tr>\n",
       "      <th>17</th>\n",
       "      <td>17</td>\n",
       "      <td>funded_quarter</td>\n",
       "      <td>TEXT</td>\n",
       "      <td>0</td>\n",
       "      <td>None</td>\n",
       "      <td>0</td>\n",
       "    </tr>\n",
       "    <tr>\n",
       "      <th>18</th>\n",
       "      <td>18</td>\n",
       "      <td>funded_year</td>\n",
       "      <td>INTEGER</td>\n",
       "      <td>0</td>\n",
       "      <td>None</td>\n",
       "      <td>0</td>\n",
       "    </tr>\n",
       "    <tr>\n",
       "      <th>19</th>\n",
       "      <td>19</td>\n",
       "      <td>raised_amount_usd</td>\n",
       "      <td>REAL</td>\n",
       "      <td>0</td>\n",
       "      <td>None</td>\n",
       "      <td>0</td>\n",
       "    </tr>\n",
       "  </tbody>\n",
       "</table>\n",
       "</div>"
      ],
      "text/plain": [
       "    cid                    name       type  notnull dflt_value  pk\n",
       "0     0       company_permalink       TEXT        0       None   0\n",
       "1     1            company_name       TEXT        0       None   0\n",
       "2     2   company_category_code       TEXT        0       None   0\n",
       "3     3    company_country_code       TEXT        0       None   0\n",
       "4     4      company_state_code       TEXT        0       None   0\n",
       "5     5          company_region       TEXT        0       None   0\n",
       "6     6            company_city       TEXT        0       None   0\n",
       "7     7      investor_permalink       TEXT        0       None   0\n",
       "8     8           investor_name       TEXT        0       None   0\n",
       "9     9  investor_category_code       TEXT        0       None   0\n",
       "10   10   investor_country_code       TEXT        0       None   0\n",
       "11   11     investor_state_code       TEXT        0       None   0\n",
       "12   12         investor_region       TEXT        0       None   0\n",
       "13   13           investor_city       TEXT        0       None   0\n",
       "14   14      funding_round_type       TEXT        0       None   0\n",
       "15   15               funded_at  TIMESTAMP        0       None   0\n",
       "16   16            funded_month       TEXT        0       None   0\n",
       "17   17          funded_quarter       TEXT        0       None   0\n",
       "18   18             funded_year    INTEGER        0       None   0\n",
       "19   19       raised_amount_usd       REAL        0       None   0"
      ]
     },
     "execution_count": 16,
     "metadata": {},
     "output_type": "execute_result"
    }
   ],
   "source": [
    "results_df = pd.read_sql('PRAGMA table_info(crunch_tables);', conn)\n",
    "results_df"
   ]
  },
  {
   "cell_type": "code",
   "execution_count": 17,
   "metadata": {
    "collapsed": false
   },
   "outputs": [
    {
     "data": {
      "text/html": [
       "<div>\n",
       "<table border=\"1\" class=\"dataframe\">\n",
       "  <thead>\n",
       "    <tr style=\"text-align: right;\">\n",
       "      <th></th>\n",
       "      <th>company_permalink</th>\n",
       "      <th>company_name</th>\n",
       "      <th>company_category_code</th>\n",
       "      <th>company_country_code</th>\n",
       "      <th>company_state_code</th>\n",
       "      <th>company_region</th>\n",
       "      <th>company_city</th>\n",
       "      <th>investor_permalink</th>\n",
       "      <th>investor_name</th>\n",
       "      <th>investor_category_code</th>\n",
       "      <th>investor_country_code</th>\n",
       "      <th>investor_state_code</th>\n",
       "      <th>investor_region</th>\n",
       "      <th>investor_city</th>\n",
       "      <th>funding_round_type</th>\n",
       "      <th>funded_at</th>\n",
       "      <th>funded_month</th>\n",
       "      <th>funded_quarter</th>\n",
       "      <th>funded_year</th>\n",
       "      <th>raised_amount_usd</th>\n",
       "    </tr>\n",
       "  </thead>\n",
       "  <tbody>\n",
       "    <tr>\n",
       "      <th>0</th>\n",
       "      <td>/company/advercar</td>\n",
       "      <td>AdverCar</td>\n",
       "      <td>advertising</td>\n",
       "      <td>USA</td>\n",
       "      <td>CA</td>\n",
       "      <td>SF Bay</td>\n",
       "      <td>San Francisco</td>\n",
       "      <td>/company/1-800-flowers-com</td>\n",
       "      <td>1-800-FLOWERS.COM</td>\n",
       "      <td>None</td>\n",
       "      <td>USA</td>\n",
       "      <td>NY</td>\n",
       "      <td>New York</td>\n",
       "      <td>New York</td>\n",
       "      <td>series-a</td>\n",
       "      <td>2012-10-30 00:00:00</td>\n",
       "      <td>2012-10</td>\n",
       "      <td>2012-Q4</td>\n",
       "      <td>2012.0</td>\n",
       "      <td>2000000.0</td>\n",
       "    </tr>\n",
       "    <tr>\n",
       "      <th>1</th>\n",
       "      <td>/company/launchgram</td>\n",
       "      <td>LaunchGram</td>\n",
       "      <td>news</td>\n",
       "      <td>USA</td>\n",
       "      <td>CA</td>\n",
       "      <td>SF Bay</td>\n",
       "      <td>Mountain View</td>\n",
       "      <td>/company/10xelerator</td>\n",
       "      <td>10Xelerator</td>\n",
       "      <td>finance</td>\n",
       "      <td>USA</td>\n",
       "      <td>OH</td>\n",
       "      <td>Columbus</td>\n",
       "      <td>Columbus</td>\n",
       "      <td>other</td>\n",
       "      <td>2012-01-23 00:00:00</td>\n",
       "      <td>2012-01</td>\n",
       "      <td>2012-Q1</td>\n",
       "      <td>2012.0</td>\n",
       "      <td>20000.0</td>\n",
       "    </tr>\n",
       "    <tr>\n",
       "      <th>2</th>\n",
       "      <td>/company/utap</td>\n",
       "      <td>uTaP</td>\n",
       "      <td>messaging</td>\n",
       "      <td>USA</td>\n",
       "      <td>None</td>\n",
       "      <td>United States - Other</td>\n",
       "      <td>None</td>\n",
       "      <td>/company/10xelerator</td>\n",
       "      <td>10Xelerator</td>\n",
       "      <td>finance</td>\n",
       "      <td>USA</td>\n",
       "      <td>OH</td>\n",
       "      <td>Columbus</td>\n",
       "      <td>Columbus</td>\n",
       "      <td>other</td>\n",
       "      <td>2012-01-01 00:00:00</td>\n",
       "      <td>2012-01</td>\n",
       "      <td>2012-Q1</td>\n",
       "      <td>2012.0</td>\n",
       "      <td>20000.0</td>\n",
       "    </tr>\n",
       "    <tr>\n",
       "      <th>3</th>\n",
       "      <td>/company/zoopshop</td>\n",
       "      <td>ZoopShop</td>\n",
       "      <td>software</td>\n",
       "      <td>USA</td>\n",
       "      <td>OH</td>\n",
       "      <td>Columbus</td>\n",
       "      <td>columbus</td>\n",
       "      <td>/company/10xelerator</td>\n",
       "      <td>10Xelerator</td>\n",
       "      <td>finance</td>\n",
       "      <td>USA</td>\n",
       "      <td>OH</td>\n",
       "      <td>Columbus</td>\n",
       "      <td>Columbus</td>\n",
       "      <td>angel</td>\n",
       "      <td>2012-02-15 00:00:00</td>\n",
       "      <td>2012-02</td>\n",
       "      <td>2012-Q1</td>\n",
       "      <td>2012.0</td>\n",
       "      <td>20000.0</td>\n",
       "    </tr>\n",
       "    <tr>\n",
       "      <th>4</th>\n",
       "      <td>/company/efuneral</td>\n",
       "      <td>eFuneral</td>\n",
       "      <td>web</td>\n",
       "      <td>USA</td>\n",
       "      <td>OH</td>\n",
       "      <td>Cleveland</td>\n",
       "      <td>Cleveland</td>\n",
       "      <td>/company/10xelerator</td>\n",
       "      <td>10Xelerator</td>\n",
       "      <td>finance</td>\n",
       "      <td>USA</td>\n",
       "      <td>OH</td>\n",
       "      <td>Columbus</td>\n",
       "      <td>Columbus</td>\n",
       "      <td>other</td>\n",
       "      <td>2011-09-08 00:00:00</td>\n",
       "      <td>2011-09</td>\n",
       "      <td>2011-Q3</td>\n",
       "      <td>2011.0</td>\n",
       "      <td>20000.0</td>\n",
       "    </tr>\n",
       "  </tbody>\n",
       "</table>\n",
       "</div>"
      ],
      "text/plain": [
       "     company_permalink company_name company_category_code  \\\n",
       "0    /company/advercar     AdverCar           advertising   \n",
       "1  /company/launchgram   LaunchGram                  news   \n",
       "2        /company/utap         uTaP             messaging   \n",
       "3    /company/zoopshop     ZoopShop              software   \n",
       "4    /company/efuneral     eFuneral                   web   \n",
       "\n",
       "  company_country_code company_state_code         company_region  \\\n",
       "0                  USA                 CA                 SF Bay   \n",
       "1                  USA                 CA                 SF Bay   \n",
       "2                  USA               None  United States - Other   \n",
       "3                  USA                 OH               Columbus   \n",
       "4                  USA                 OH              Cleveland   \n",
       "\n",
       "    company_city          investor_permalink      investor_name  \\\n",
       "0  San Francisco  /company/1-800-flowers-com  1-800-FLOWERS.COM   \n",
       "1  Mountain View        /company/10xelerator        10Xelerator   \n",
       "2           None        /company/10xelerator        10Xelerator   \n",
       "3       columbus        /company/10xelerator        10Xelerator   \n",
       "4      Cleveland        /company/10xelerator        10Xelerator   \n",
       "\n",
       "  investor_category_code investor_country_code investor_state_code  \\\n",
       "0                   None                   USA                  NY   \n",
       "1                finance                   USA                  OH   \n",
       "2                finance                   USA                  OH   \n",
       "3                finance                   USA                  OH   \n",
       "4                finance                   USA                  OH   \n",
       "\n",
       "  investor_region investor_city funding_round_type            funded_at  \\\n",
       "0        New York      New York           series-a  2012-10-30 00:00:00   \n",
       "1        Columbus      Columbus              other  2012-01-23 00:00:00   \n",
       "2        Columbus      Columbus              other  2012-01-01 00:00:00   \n",
       "3        Columbus      Columbus              angel  2012-02-15 00:00:00   \n",
       "4        Columbus      Columbus              other  2011-09-08 00:00:00   \n",
       "\n",
       "  funded_month funded_quarter  funded_year  raised_amount_usd  \n",
       "0      2012-10        2012-Q4       2012.0          2000000.0  \n",
       "1      2012-01        2012-Q1       2012.0            20000.0  \n",
       "2      2012-01        2012-Q1       2012.0            20000.0  \n",
       "3      2012-02        2012-Q1       2012.0            20000.0  \n",
       "4      2011-09        2011-Q3       2011.0            20000.0  "
      ]
     },
     "execution_count": 17,
     "metadata": {},
     "output_type": "execute_result"
    }
   ],
   "source": [
    "df = pd.read_sql('select * from crunch_tables;',conn)\n",
    "df.head()"
   ]
  },
  {
   "cell_type": "code",
   "execution_count": 18,
   "metadata": {
    "collapsed": false
   },
   "outputs": [
    {
     "name": "stdout",
     "output_type": "stream",
     "text": [
      "<class 'pandas.core.frame.DataFrame'>\n",
      "RangeIndex: 52870 entries, 0 to 52869\n",
      "Data columns (total 20 columns):\n",
      "company_permalink         52869 non-null object\n",
      "company_name              52869 non-null object\n",
      "company_category_code     52227 non-null object\n",
      "company_country_code      52869 non-null object\n",
      "company_state_code        52378 non-null object\n",
      "company_region            52869 non-null object\n",
      "company_city              52337 non-null object\n",
      "investor_permalink        52868 non-null object\n",
      "investor_name             52868 non-null object\n",
      "investor_category_code    2443 non-null object\n",
      "investor_country_code     40869 non-null object\n",
      "investor_state_code       36061 non-null object\n",
      "investor_region           52868 non-null object\n",
      "investor_city             40390 non-null object\n",
      "funding_round_type        52867 non-null object\n",
      "funded_at                 52867 non-null object\n",
      "funded_month              52867 non-null object\n",
      "funded_quarter            52867 non-null object\n",
      "funded_year               52867 non-null float64\n",
      "raised_amount_usd         49271 non-null float64\n",
      "dtypes: float64(2), object(18)\n",
      "memory usage: 8.1+ MB\n"
     ]
    }
   ],
   "source": [
    "df.info()"
   ]
  },
  {
   "cell_type": "markdown",
   "metadata": {},
   "source": [
    "Delete some unnecessary columns and free up more space"
   ]
  },
  {
   "cell_type": "code",
   "execution_count": 20,
   "metadata": {
    "collapsed": false
   },
   "outputs": [],
   "source": [
    "df.drop(['company_permalink','investor_permalink'], axis=1,inplace=True)\n"
   ]
  },
  {
   "cell_type": "code",
   "execution_count": 21,
   "metadata": {
    "collapsed": false
   },
   "outputs": [
    {
     "name": "stdout",
     "output_type": "stream",
     "text": [
      "<class 'pandas.core.frame.DataFrame'>\n",
      "RangeIndex: 52870 entries, 0 to 52869\n",
      "Data columns (total 18 columns):\n",
      "company_name              52869 non-null object\n",
      "company_category_code     52227 non-null object\n",
      "company_country_code      52869 non-null object\n",
      "company_state_code        52378 non-null object\n",
      "company_region            52869 non-null object\n",
      "company_city              52337 non-null object\n",
      "investor_name             52868 non-null object\n",
      "investor_category_code    2443 non-null object\n",
      "investor_country_code     40869 non-null object\n",
      "investor_state_code       36061 non-null object\n",
      "investor_region           52868 non-null object\n",
      "investor_city             40390 non-null object\n",
      "funding_round_type        52867 non-null object\n",
      "funded_at                 52867 non-null object\n",
      "funded_month              52867 non-null object\n",
      "funded_quarter            52867 non-null object\n",
      "funded_year               52867 non-null float64\n",
      "raised_amount_usd         49271 non-null float64\n",
      "dtypes: float64(2), object(16)\n",
      "memory usage: 7.3+ MB\n"
     ]
    }
   ],
   "source": [
    "df.info()"
   ]
  },
  {
   "cell_type": "code",
   "execution_count": 22,
   "metadata": {
    "collapsed": false
   },
   "outputs": [
    {
     "data": {
      "text/html": [
       "<div>\n",
       "<table border=\"1\" class=\"dataframe\">\n",
       "  <thead>\n",
       "    <tr style=\"text-align: right;\">\n",
       "      <th></th>\n",
       "      <th>company_name</th>\n",
       "      <th>company_category_code</th>\n",
       "      <th>company_country_code</th>\n",
       "      <th>company_state_code</th>\n",
       "      <th>company_region</th>\n",
       "      <th>company_city</th>\n",
       "      <th>investor_name</th>\n",
       "      <th>investor_category_code</th>\n",
       "      <th>investor_country_code</th>\n",
       "      <th>investor_state_code</th>\n",
       "      <th>investor_region</th>\n",
       "      <th>investor_city</th>\n",
       "      <th>funding_round_type</th>\n",
       "      <th>funded_at</th>\n",
       "      <th>funded_month</th>\n",
       "      <th>funded_quarter</th>\n",
       "      <th>funded_year</th>\n",
       "      <th>raised_amount_usd</th>\n",
       "    </tr>\n",
       "  </thead>\n",
       "  <tbody>\n",
       "    <tr>\n",
       "      <th>0</th>\n",
       "      <td>AdverCar</td>\n",
       "      <td>advertising</td>\n",
       "      <td>USA</td>\n",
       "      <td>CA</td>\n",
       "      <td>SF Bay</td>\n",
       "      <td>San Francisco</td>\n",
       "      <td>1-800-FLOWERS.COM</td>\n",
       "      <td>None</td>\n",
       "      <td>USA</td>\n",
       "      <td>NY</td>\n",
       "      <td>New York</td>\n",
       "      <td>New York</td>\n",
       "      <td>series-a</td>\n",
       "      <td>2012-10-30 00:00:00</td>\n",
       "      <td>2012-10</td>\n",
       "      <td>2012-Q4</td>\n",
       "      <td>2012.0</td>\n",
       "      <td>2000000.0</td>\n",
       "    </tr>\n",
       "    <tr>\n",
       "      <th>1</th>\n",
       "      <td>LaunchGram</td>\n",
       "      <td>news</td>\n",
       "      <td>USA</td>\n",
       "      <td>CA</td>\n",
       "      <td>SF Bay</td>\n",
       "      <td>Mountain View</td>\n",
       "      <td>10Xelerator</td>\n",
       "      <td>finance</td>\n",
       "      <td>USA</td>\n",
       "      <td>OH</td>\n",
       "      <td>Columbus</td>\n",
       "      <td>Columbus</td>\n",
       "      <td>other</td>\n",
       "      <td>2012-01-23 00:00:00</td>\n",
       "      <td>2012-01</td>\n",
       "      <td>2012-Q1</td>\n",
       "      <td>2012.0</td>\n",
       "      <td>20000.0</td>\n",
       "    </tr>\n",
       "    <tr>\n",
       "      <th>2</th>\n",
       "      <td>uTaP</td>\n",
       "      <td>messaging</td>\n",
       "      <td>USA</td>\n",
       "      <td>None</td>\n",
       "      <td>United States - Other</td>\n",
       "      <td>None</td>\n",
       "      <td>10Xelerator</td>\n",
       "      <td>finance</td>\n",
       "      <td>USA</td>\n",
       "      <td>OH</td>\n",
       "      <td>Columbus</td>\n",
       "      <td>Columbus</td>\n",
       "      <td>other</td>\n",
       "      <td>2012-01-01 00:00:00</td>\n",
       "      <td>2012-01</td>\n",
       "      <td>2012-Q1</td>\n",
       "      <td>2012.0</td>\n",
       "      <td>20000.0</td>\n",
       "    </tr>\n",
       "    <tr>\n",
       "      <th>3</th>\n",
       "      <td>ZoopShop</td>\n",
       "      <td>software</td>\n",
       "      <td>USA</td>\n",
       "      <td>OH</td>\n",
       "      <td>Columbus</td>\n",
       "      <td>columbus</td>\n",
       "      <td>10Xelerator</td>\n",
       "      <td>finance</td>\n",
       "      <td>USA</td>\n",
       "      <td>OH</td>\n",
       "      <td>Columbus</td>\n",
       "      <td>Columbus</td>\n",
       "      <td>angel</td>\n",
       "      <td>2012-02-15 00:00:00</td>\n",
       "      <td>2012-02</td>\n",
       "      <td>2012-Q1</td>\n",
       "      <td>2012.0</td>\n",
       "      <td>20000.0</td>\n",
       "    </tr>\n",
       "    <tr>\n",
       "      <th>4</th>\n",
       "      <td>eFuneral</td>\n",
       "      <td>web</td>\n",
       "      <td>USA</td>\n",
       "      <td>OH</td>\n",
       "      <td>Cleveland</td>\n",
       "      <td>Cleveland</td>\n",
       "      <td>10Xelerator</td>\n",
       "      <td>finance</td>\n",
       "      <td>USA</td>\n",
       "      <td>OH</td>\n",
       "      <td>Columbus</td>\n",
       "      <td>Columbus</td>\n",
       "      <td>other</td>\n",
       "      <td>2011-09-08 00:00:00</td>\n",
       "      <td>2011-09</td>\n",
       "      <td>2011-Q3</td>\n",
       "      <td>2011.0</td>\n",
       "      <td>20000.0</td>\n",
       "    </tr>\n",
       "  </tbody>\n",
       "</table>\n",
       "</div>"
      ],
      "text/plain": [
       "  company_name company_category_code company_country_code company_state_code  \\\n",
       "0     AdverCar           advertising                  USA                 CA   \n",
       "1   LaunchGram                  news                  USA                 CA   \n",
       "2         uTaP             messaging                  USA               None   \n",
       "3     ZoopShop              software                  USA                 OH   \n",
       "4     eFuneral                   web                  USA                 OH   \n",
       "\n",
       "          company_region   company_city      investor_name  \\\n",
       "0                 SF Bay  San Francisco  1-800-FLOWERS.COM   \n",
       "1                 SF Bay  Mountain View        10Xelerator   \n",
       "2  United States - Other           None        10Xelerator   \n",
       "3               Columbus       columbus        10Xelerator   \n",
       "4              Cleveland      Cleveland        10Xelerator   \n",
       "\n",
       "  investor_category_code investor_country_code investor_state_code  \\\n",
       "0                   None                   USA                  NY   \n",
       "1                finance                   USA                  OH   \n",
       "2                finance                   USA                  OH   \n",
       "3                finance                   USA                  OH   \n",
       "4                finance                   USA                  OH   \n",
       "\n",
       "  investor_region investor_city funding_round_type            funded_at  \\\n",
       "0        New York      New York           series-a  2012-10-30 00:00:00   \n",
       "1        Columbus      Columbus              other  2012-01-23 00:00:00   \n",
       "2        Columbus      Columbus              other  2012-01-01 00:00:00   \n",
       "3        Columbus      Columbus              angel  2012-02-15 00:00:00   \n",
       "4        Columbus      Columbus              other  2011-09-08 00:00:00   \n",
       "\n",
       "  funded_month funded_quarter  funded_year  raised_amount_usd  \n",
       "0      2012-10        2012-Q4       2012.0          2000000.0  \n",
       "1      2012-01        2012-Q1       2012.0            20000.0  \n",
       "2      2012-01        2012-Q1       2012.0            20000.0  \n",
       "3      2012-02        2012-Q1       2012.0            20000.0  \n",
       "4      2011-09        2011-Q3       2011.0            20000.0  "
      ]
     },
     "execution_count": 22,
     "metadata": {},
     "output_type": "execute_result"
    }
   ],
   "source": [
    "df.head()"
   ]
  },
  {
   "cell_type": "markdown",
   "metadata": {},
   "source": [
    "Which category of company raised the most money?"
   ]
  },
  {
   "cell_type": "code",
   "execution_count": 28,
   "metadata": {
    "collapsed": false
   },
   "outputs": [],
   "source": [
    "top_cat = pd.DataFrame(pd.pivot_table(df, values='raised_amount_usd', \n",
    "                    columns=['company_category_code'], aggfunc=np.sum))"
   ]
  },
  {
   "cell_type": "code",
   "execution_count": 30,
   "metadata": {
    "collapsed": false
   },
   "outputs": [
    {
     "data": {
      "text/html": [
       "<div>\n",
       "<table border=\"1\" class=\"dataframe\">\n",
       "  <thead>\n",
       "    <tr style=\"text-align: right;\">\n",
       "      <th></th>\n",
       "      <th>raised_amount_usd</th>\n",
       "    </tr>\n",
       "    <tr>\n",
       "      <th>company_category_code</th>\n",
       "      <th></th>\n",
       "    </tr>\n",
       "  </thead>\n",
       "  <tbody>\n",
       "    <tr>\n",
       "      <th>biotech</th>\n",
       "      <td>1.103964e+11</td>\n",
       "    </tr>\n",
       "    <tr>\n",
       "      <th>software</th>\n",
       "      <td>7.308452e+10</td>\n",
       "    </tr>\n",
       "    <tr>\n",
       "      <th>mobile</th>\n",
       "      <td>6.477738e+10</td>\n",
       "    </tr>\n",
       "    <tr>\n",
       "      <th>cleantech</th>\n",
       "      <td>5.270523e+10</td>\n",
       "    </tr>\n",
       "    <tr>\n",
       "      <th>enterprise</th>\n",
       "      <td>4.586093e+10</td>\n",
       "    </tr>\n",
       "    <tr>\n",
       "      <th>web</th>\n",
       "      <td>4.014326e+10</td>\n",
       "    </tr>\n",
       "    <tr>\n",
       "      <th>medical</th>\n",
       "      <td>2.536711e+10</td>\n",
       "    </tr>\n",
       "    <tr>\n",
       "      <th>advertising</th>\n",
       "      <td>2.507666e+10</td>\n",
       "    </tr>\n",
       "    <tr>\n",
       "      <th>ecommerce</th>\n",
       "      <td>2.256722e+10</td>\n",
       "    </tr>\n",
       "    <tr>\n",
       "      <th>network_hosting</th>\n",
       "      <td>2.241968e+10</td>\n",
       "    </tr>\n",
       "  </tbody>\n",
       "</table>\n",
       "</div>"
      ],
      "text/plain": [
       "                       raised_amount_usd\n",
       "company_category_code                   \n",
       "biotech                     1.103964e+11\n",
       "software                    7.308452e+10\n",
       "mobile                      6.477738e+10\n",
       "cleantech                   5.270523e+10\n",
       "enterprise                  4.586093e+10\n",
       "web                         4.014326e+10\n",
       "medical                     2.536711e+10\n",
       "advertising                 2.507666e+10\n",
       "ecommerce                   2.256722e+10\n",
       "network_hosting             2.241968e+10"
      ]
     },
     "execution_count": 30,
     "metadata": {},
     "output_type": "execute_result"
    }
   ],
   "source": [
    "top_cat.sort_values(by='raised_amount_usd',ascending=False).head(10)"
   ]
  },
  {
   "cell_type": "markdown",
   "metadata": {},
   "source": [
    "Which investor contributed the most money (across all startups)?"
   ]
  },
  {
   "cell_type": "code",
   "execution_count": 36,
   "metadata": {
    "collapsed": true
   },
   "outputs": [],
   "source": [
    "top_inv = pd.DataFrame(pd.pivot_table(df, values='raised_amount_usd', \n",
    "                    columns=['investor_name'], aggfunc=np.sum))\n",
    "\n"
   ]
  },
  {
   "cell_type": "code",
   "execution_count": 37,
   "metadata": {
    "collapsed": false
   },
   "outputs": [
    {
     "data": {
      "text/html": [
       "<div>\n",
       "<table border=\"1\" class=\"dataframe\">\n",
       "  <thead>\n",
       "    <tr style=\"text-align: right;\">\n",
       "      <th></th>\n",
       "      <th>raised_amount_usd</th>\n",
       "    </tr>\n",
       "    <tr>\n",
       "      <th>investor_name</th>\n",
       "      <th></th>\n",
       "    </tr>\n",
       "  </thead>\n",
       "  <tbody>\n",
       "    <tr>\n",
       "      <th>Kleiner Perkins Caufield &amp; Byers</th>\n",
       "      <td>1.121783e+10</td>\n",
       "    </tr>\n",
       "    <tr>\n",
       "      <th>New Enterprise Associates</th>\n",
       "      <td>9.692542e+09</td>\n",
       "    </tr>\n",
       "    <tr>\n",
       "      <th>Accel Partners</th>\n",
       "      <td>6.472126e+09</td>\n",
       "    </tr>\n",
       "    <tr>\n",
       "      <th>Goldman Sachs</th>\n",
       "      <td>6.375459e+09</td>\n",
       "    </tr>\n",
       "    <tr>\n",
       "      <th>Sequoia Capital</th>\n",
       "      <td>6.039402e+09</td>\n",
       "    </tr>\n",
       "    <tr>\n",
       "      <th>Intel</th>\n",
       "      <td>5.969200e+09</td>\n",
       "    </tr>\n",
       "    <tr>\n",
       "      <th>Google</th>\n",
       "      <td>5.808800e+09</td>\n",
       "    </tr>\n",
       "    <tr>\n",
       "      <th>Time Warner</th>\n",
       "      <td>5.730000e+09</td>\n",
       "    </tr>\n",
       "    <tr>\n",
       "      <th>Comcast</th>\n",
       "      <td>5.669000e+09</td>\n",
       "    </tr>\n",
       "    <tr>\n",
       "      <th>Greylock Partners</th>\n",
       "      <td>4.960983e+09</td>\n",
       "    </tr>\n",
       "  </tbody>\n",
       "</table>\n",
       "</div>"
      ],
      "text/plain": [
       "                                  raised_amount_usd\n",
       "investor_name                                      \n",
       "Kleiner Perkins Caufield & Byers       1.121783e+10\n",
       "New Enterprise Associates              9.692542e+09\n",
       "Accel Partners                         6.472126e+09\n",
       "Goldman Sachs                          6.375459e+09\n",
       "Sequoia Capital                        6.039402e+09\n",
       "Intel                                  5.969200e+09\n",
       "Google                                 5.808800e+09\n",
       "Time Warner                            5.730000e+09\n",
       "Comcast                                5.669000e+09\n",
       "Greylock Partners                      4.960983e+09"
      ]
     },
     "execution_count": 37,
     "metadata": {},
     "output_type": "execute_result"
    }
   ],
   "source": [
    "top_inv.sort_values(by='raised_amount_usd',ascending=False).head(10)"
   ]
  },
  {
   "cell_type": "markdown",
   "metadata": {
    "collapsed": true
   },
   "source": [
    "Which investors contributed the most money per startup?"
   ]
  },
  {
   "cell_type": "code",
   "execution_count": 44,
   "metadata": {
    "collapsed": true
   },
   "outputs": [],
   "source": [
    "inv_for_startup = pd.DataFrame(pd.pivot_table(df, values='raised_amount_usd', \n",
    "                    columns=['company_name','investor_name'], aggfunc=np.sum))\n"
   ]
  },
  {
   "cell_type": "code",
   "execution_count": 47,
   "metadata": {
    "collapsed": false
   },
   "outputs": [
    {
     "data": {
      "text/html": [
       "<div>\n",
       "<table border=\"1\" class=\"dataframe\">\n",
       "  <thead>\n",
       "    <tr style=\"text-align: right;\">\n",
       "      <th></th>\n",
       "      <th></th>\n",
       "      <th>0</th>\n",
       "    </tr>\n",
       "    <tr>\n",
       "      <th>company_name</th>\n",
       "      <th>investor_name</th>\n",
       "      <th></th>\n",
       "    </tr>\n",
       "  </thead>\n",
       "  <tbody>\n",
       "    <tr>\n",
       "      <th rowspan=\"5\" valign=\"top\">Clearwire</th>\n",
       "      <th>Comcast</th>\n",
       "      <td>5.620000e+09</td>\n",
       "    </tr>\n",
       "    <tr>\n",
       "      <th>Intel</th>\n",
       "      <td>5.620000e+09</td>\n",
       "    </tr>\n",
       "    <tr>\n",
       "      <th>Time Warner</th>\n",
       "      <td>5.620000e+09</td>\n",
       "    </tr>\n",
       "    <tr>\n",
       "      <th>BrightHouse</th>\n",
       "      <td>4.700000e+09</td>\n",
       "    </tr>\n",
       "    <tr>\n",
       "      <th>Google</th>\n",
       "      <td>3.200000e+09</td>\n",
       "    </tr>\n",
       "    <tr>\n",
       "      <th>sigmacare</th>\n",
       "      <th>Marlin Equity Partners</th>\n",
       "      <td>2.600000e+09</td>\n",
       "    </tr>\n",
       "    <tr>\n",
       "      <th rowspan=\"2\" valign=\"top\">Clearwire</th>\n",
       "      <th>Sprint Nextel</th>\n",
       "      <td>2.500000e+09</td>\n",
       "    </tr>\n",
       "    <tr>\n",
       "      <th>Eagle River Holdings</th>\n",
       "      <td>2.420000e+09</td>\n",
       "    </tr>\n",
       "    <tr>\n",
       "      <th rowspan=\"2\" valign=\"top\">Facebook</th>\n",
       "      <th>Digital Sky Technologies</th>\n",
       "      <td>1.700000e+09</td>\n",
       "    </tr>\n",
       "    <tr>\n",
       "      <th>Goldman Sachs</th>\n",
       "      <td>1.500000e+09</td>\n",
       "    </tr>\n",
       "  </tbody>\n",
       "</table>\n",
       "</div>"
      ],
      "text/plain": [
       "                                                  0\n",
       "company_name investor_name                         \n",
       "Clearwire    Comcast                   5.620000e+09\n",
       "             Intel                     5.620000e+09\n",
       "             Time Warner               5.620000e+09\n",
       "             BrightHouse               4.700000e+09\n",
       "             Google                    3.200000e+09\n",
       "sigmacare    Marlin Equity Partners    2.600000e+09\n",
       "Clearwire    Sprint Nextel             2.500000e+09\n",
       "             Eagle River Holdings      2.420000e+09\n",
       "Facebook     Digital Sky Technologies  1.700000e+09\n",
       "             Goldman Sachs             1.500000e+09"
      ]
     },
     "execution_count": 47,
     "metadata": {},
     "output_type": "execute_result"
    }
   ],
   "source": [
    "inv_for_startup.sort_values(by=0,ascending=False).head(10)\n",
    "\n"
   ]
  },
  {
   "cell_type": "markdown",
   "metadata": {},
   "source": [
    "Which funding rounds were the most popular/least popular?"
   ]
  },
  {
   "cell_type": "code",
   "execution_count": 48,
   "metadata": {
    "collapsed": true
   },
   "outputs": [],
   "source": [
    "funding_round = pd.DataFrame(pd.pivot_table(df, values='raised_amount_usd', \n",
    "                    columns=['funding_round_type'], aggfunc=np.sum))"
   ]
  },
  {
   "cell_type": "code",
   "execution_count": 52,
   "metadata": {
    "collapsed": false
   },
   "outputs": [
    {
     "data": {
      "text/html": [
       "<div>\n",
       "<table border=\"1\" class=\"dataframe\">\n",
       "  <thead>\n",
       "    <tr style=\"text-align: right;\">\n",
       "      <th></th>\n",
       "      <th>raised_amount_usd</th>\n",
       "    </tr>\n",
       "    <tr>\n",
       "      <th>funding_round_type</th>\n",
       "      <th></th>\n",
       "    </tr>\n",
       "  </thead>\n",
       "  <tbody>\n",
       "    <tr>\n",
       "      <th>series-c+</th>\n",
       "      <td>2.657535e+11</td>\n",
       "    </tr>\n",
       "    <tr>\n",
       "      <th>venture</th>\n",
       "      <td>1.305565e+11</td>\n",
       "    </tr>\n",
       "    <tr>\n",
       "      <th>series-b</th>\n",
       "      <td>1.283268e+11</td>\n",
       "    </tr>\n",
       "    <tr>\n",
       "      <th>series-a</th>\n",
       "      <td>8.654215e+10</td>\n",
       "    </tr>\n",
       "    <tr>\n",
       "      <th>post-ipo</th>\n",
       "      <td>3.091760e+10</td>\n",
       "    </tr>\n",
       "    <tr>\n",
       "      <th>other</th>\n",
       "      <td>1.850726e+10</td>\n",
       "    </tr>\n",
       "    <tr>\n",
       "      <th>private-equity</th>\n",
       "      <td>1.615988e+10</td>\n",
       "    </tr>\n",
       "    <tr>\n",
       "      <th>angel</th>\n",
       "      <td>4.962075e+09</td>\n",
       "    </tr>\n",
       "    <tr>\n",
       "      <th>crowdfunding</th>\n",
       "      <td>6.491500e+06</td>\n",
       "    </tr>\n",
       "  </tbody>\n",
       "</table>\n",
       "</div>"
      ],
      "text/plain": [
       "                    raised_amount_usd\n",
       "funding_round_type                   \n",
       "series-c+                2.657535e+11\n",
       "venture                  1.305565e+11\n",
       "series-b                 1.283268e+11\n",
       "series-a                 8.654215e+10\n",
       "post-ipo                 3.091760e+10\n",
       "other                    1.850726e+10\n",
       "private-equity           1.615988e+10\n",
       "angel                    4.962075e+09\n",
       "crowdfunding             6.491500e+06"
      ]
     },
     "execution_count": 52,
     "metadata": {},
     "output_type": "execute_result"
    }
   ],
   "source": [
    "funding_round.sort_values(by='raised_amount_usd',ascending=False).head(10)\n",
    "\n"
   ]
  },
  {
   "cell_type": "code",
   "execution_count": null,
   "metadata": {
    "collapsed": true
   },
   "outputs": [],
   "source": []
  }
 ],
 "metadata": {
  "anaconda-cloud": {},
  "kernelspec": {
   "display_name": "Python 3",
   "language": "python",
   "name": "python3"
  },
  "language_info": {
   "codemirror_mode": {
    "name": "ipython",
    "version": 3
   },
   "file_extension": ".py",
   "mimetype": "text/x-python",
   "name": "python",
   "nbconvert_exporter": "python",
   "pygments_lexer": "ipython3",
   "version": "3.4.3"
  }
 },
 "nbformat": 4,
 "nbformat_minor": 2
}
